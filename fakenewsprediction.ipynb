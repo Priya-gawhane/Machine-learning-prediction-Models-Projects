{
  "nbformat": 4,
  "nbformat_minor": 0,
  "metadata": {
    "colab": {
      "provenance": [],
      "authorship_tag": "ABX9TyMgOB6sRm9aHCsoipjOT8lt",
      "include_colab_link": true
    },
    "kernelspec": {
      "name": "python3",
      "display_name": "Python 3"
    },
    "language_info": {
      "name": "python"
    }
  },
  "cells": [
    {
      "cell_type": "markdown",
      "metadata": {
        "id": "view-in-github",
        "colab_type": "text"
      },
      "source": [
        "<a href=\"https://colab.research.google.com/github/Priya-gawhane/Machine-learning-prediction-Models-Projects/blob/main/fakenewsprediction.ipynb\" target=\"_parent\"><img src=\"https://colab.research.google.com/assets/colab-badge.svg\" alt=\"Open In Colab\"/></a>"
      ]
    },
    {
      "cell_type": "markdown",
      "source": [
        "Importing the dependencies"
      ],
      "metadata": {
        "id": "uqOjpsaEdhRu"
      }
    },
    {
      "cell_type": "code",
      "source": [
        "import numpy as np\n",
        "import pandas as pd\n",
        "import re\n",
        "from nltk.corpus import stopwords\n",
        "from nltk.stem.porter import PorterStemmer\n",
        "from sklearn.feature_extraction.text import TfidfVectorizer\n",
        "from sklearn.model_selection import train_test_split\n",
        "from sklearn.linear_model import LogisticRegression\n",
        "from sklearn.metrics import accuracy_score"
      ],
      "metadata": {
        "id": "9ier3GJtdmok"
      },
      "execution_count": 11,
      "outputs": []
    },
    {
      "cell_type": "code",
      "source": [
        "import nltk\n",
        "nltk.download('stopwords')"
      ],
      "metadata": {
        "colab": {
          "base_uri": "https://localhost:8080/"
        },
        "id": "88qiT1oQsv8c",
        "outputId": "dae6db6f-8fa7-458b-a016-d72e268556d8"
      },
      "execution_count": 12,
      "outputs": [
        {
          "output_type": "stream",
          "name": "stderr",
          "text": [
            "[nltk_data] Downloading package stopwords to /root/nltk_data...\n",
            "[nltk_data]   Package stopwords is already up-to-date!\n"
          ]
        },
        {
          "output_type": "execute_result",
          "data": {
            "text/plain": [
              "True"
            ]
          },
          "metadata": {},
          "execution_count": 12
        }
      ]
    },
    {
      "cell_type": "code",
      "source": [
        "#printing the stopwords\n",
        "print(stopwords.words('english'))"
      ],
      "metadata": {
        "colab": {
          "base_uri": "https://localhost:8080/"
        },
        "id": "B_LDRfT7pMDX",
        "outputId": "a18fe54d-e739-4713-91dd-48c133a0c621"
      },
      "execution_count": 13,
      "outputs": [
        {
          "output_type": "stream",
          "name": "stdout",
          "text": [
            "['i', 'me', 'my', 'myself', 'we', 'our', 'ours', 'ourselves', 'you', \"you're\", \"you've\", \"you'll\", \"you'd\", 'your', 'yours', 'yourself', 'yourselves', 'he', 'him', 'his', 'himself', 'she', \"she's\", 'her', 'hers', 'herself', 'it', \"it's\", 'its', 'itself', 'they', 'them', 'their', 'theirs', 'themselves', 'what', 'which', 'who', 'whom', 'this', 'that', \"that'll\", 'these', 'those', 'am', 'is', 'are', 'was', 'were', 'be', 'been', 'being', 'have', 'has', 'had', 'having', 'do', 'does', 'did', 'doing', 'a', 'an', 'the', 'and', 'but', 'if', 'or', 'because', 'as', 'until', 'while', 'of', 'at', 'by', 'for', 'with', 'about', 'against', 'between', 'into', 'through', 'during', 'before', 'after', 'above', 'below', 'to', 'from', 'up', 'down', 'in', 'out', 'on', 'off', 'over', 'under', 'again', 'further', 'then', 'once', 'here', 'there', 'when', 'where', 'why', 'how', 'all', 'any', 'both', 'each', 'few', 'more', 'most', 'other', 'some', 'such', 'no', 'nor', 'not', 'only', 'own', 'same', 'so', 'than', 'too', 'very', 's', 't', 'can', 'will', 'just', 'don', \"don't\", 'should', \"should've\", 'now', 'd', 'll', 'm', 'o', 're', 've', 'y', 'ain', 'aren', \"aren't\", 'couldn', \"couldn't\", 'didn', \"didn't\", 'doesn', \"doesn't\", 'hadn', \"hadn't\", 'hasn', \"hasn't\", 'haven', \"haven't\", 'isn', \"isn't\", 'ma', 'mightn', \"mightn't\", 'mustn', \"mustn't\", 'needn', \"needn't\", 'shan', \"shan't\", 'shouldn', \"shouldn't\", 'wasn', \"wasn't\", 'weren', \"weren't\", 'won', \"won't\", 'wouldn', \"wouldn't\"]\n"
          ]
        }
      ]
    },
    {
      "cell_type": "code",
      "source": [
        "#loading the datasheet to the pandas dataframe\n",
        "news_dataset = pd.read_csv('/content/train (1).csv', encoding='unicode_escape')\n"
      ],
      "metadata": {
        "id": "d70ESmo6s6ZY"
      },
      "execution_count": 14,
      "outputs": []
    },
    {
      "cell_type": "code",
      "source": [
        "news_dataset.shape\n"
      ],
      "metadata": {
        "id": "2N-X11Zdthdv",
        "colab": {
          "base_uri": "https://localhost:8080/"
        },
        "outputId": "c1dddaef-3586-46a9-c99b-ad0772a69fba"
      },
      "execution_count": 15,
      "outputs": [
        {
          "output_type": "execute_result",
          "data": {
            "text/plain": [
              "(1179, 5)"
            ]
          },
          "metadata": {},
          "execution_count": 15
        }
      ]
    },
    {
      "cell_type": "code",
      "source": [
        "news_dataset.head()"
      ],
      "metadata": {
        "colab": {
          "base_uri": "https://localhost:8080/",
          "height": 206
        },
        "id": "YIwN42lw7eVr",
        "outputId": "cf98ca30-5af2-4a06-ba62-350c943c425b"
      },
      "execution_count": 16,
      "outputs": [
        {
          "output_type": "execute_result",
          "data": {
            "text/plain": [
              "      id                                              title  \\\n",
              "0  16280  Christian Charity Forfeits Federal Food in Fav...   \n",
              "1  16281  JOHNSON & JOHNSON ORDERED TO PAY $70 MILLION T...   \n",
              "2  16282  Supreme Court Begins First Sitting of Trump Pr...   \n",
              "3  16283  Study: Unemployment Fuels National Drug Epidem...   \n",
              "4  16284  The Voting Dead: CBS4 Investigation Exposes Vo...   \n",
              "\n",
              "                  authour                                               text  \\\n",
              "0         Michael Tennant  Email \\nâWe donât force our faith on anybo...   \n",
              "1              Iron Sheik  Home âº US NEWS âº JOHNSON & JOHNSON ORDERED...   \n",
              "2           Ken Klukowski  WASHINGTON â  Tuesday, the Supreme Court wil...   \n",
              "3            John Hayward  The National Bureau of Economic Research publi...   \n",
              "4  Jenna Leigh Richardson  A CBS Denver voter fraud investigation has exp...   \n",
              "\n",
              "  label  \n",
              "0     1  \n",
              "1     1  \n",
              "2     0  \n",
              "3     0  \n",
              "4     1  "
            ],
            "text/html": [
              "\n",
              "  <div id=\"df-80ec454f-025b-4ab5-b759-71ca285bebe9\" class=\"colab-df-container\">\n",
              "    <div>\n",
              "<style scoped>\n",
              "    .dataframe tbody tr th:only-of-type {\n",
              "        vertical-align: middle;\n",
              "    }\n",
              "\n",
              "    .dataframe tbody tr th {\n",
              "        vertical-align: top;\n",
              "    }\n",
              "\n",
              "    .dataframe thead th {\n",
              "        text-align: right;\n",
              "    }\n",
              "</style>\n",
              "<table border=\"1\" class=\"dataframe\">\n",
              "  <thead>\n",
              "    <tr style=\"text-align: right;\">\n",
              "      <th></th>\n",
              "      <th>id</th>\n",
              "      <th>title</th>\n",
              "      <th>authour</th>\n",
              "      <th>text</th>\n",
              "      <th>label</th>\n",
              "    </tr>\n",
              "  </thead>\n",
              "  <tbody>\n",
              "    <tr>\n",
              "      <th>0</th>\n",
              "      <td>16280</td>\n",
              "      <td>Christian Charity Forfeits Federal Food in Fav...</td>\n",
              "      <td>Michael Tennant</td>\n",
              "      <td>Email \\nâWe donât force our faith on anybo...</td>\n",
              "      <td>1</td>\n",
              "    </tr>\n",
              "    <tr>\n",
              "      <th>1</th>\n",
              "      <td>16281</td>\n",
              "      <td>JOHNSON &amp; JOHNSON ORDERED TO PAY $70 MILLION T...</td>\n",
              "      <td>Iron Sheik</td>\n",
              "      <td>Home âº US NEWS âº JOHNSON &amp; JOHNSON ORDERED...</td>\n",
              "      <td>1</td>\n",
              "    </tr>\n",
              "    <tr>\n",
              "      <th>2</th>\n",
              "      <td>16282</td>\n",
              "      <td>Supreme Court Begins First Sitting of Trump Pr...</td>\n",
              "      <td>Ken Klukowski</td>\n",
              "      <td>WASHINGTON â  Tuesday, the Supreme Court wil...</td>\n",
              "      <td>0</td>\n",
              "    </tr>\n",
              "    <tr>\n",
              "      <th>3</th>\n",
              "      <td>16283</td>\n",
              "      <td>Study: Unemployment Fuels National Drug Epidem...</td>\n",
              "      <td>John Hayward</td>\n",
              "      <td>The National Bureau of Economic Research publi...</td>\n",
              "      <td>0</td>\n",
              "    </tr>\n",
              "    <tr>\n",
              "      <th>4</th>\n",
              "      <td>16284</td>\n",
              "      <td>The Voting Dead: CBS4 Investigation Exposes Vo...</td>\n",
              "      <td>Jenna Leigh Richardson</td>\n",
              "      <td>A CBS Denver voter fraud investigation has exp...</td>\n",
              "      <td>1</td>\n",
              "    </tr>\n",
              "  </tbody>\n",
              "</table>\n",
              "</div>\n",
              "    <div class=\"colab-df-buttons\">\n",
              "\n",
              "  <div class=\"colab-df-container\">\n",
              "    <button class=\"colab-df-convert\" onclick=\"convertToInteractive('df-80ec454f-025b-4ab5-b759-71ca285bebe9')\"\n",
              "            title=\"Convert this dataframe to an interactive table.\"\n",
              "            style=\"display:none;\">\n",
              "\n",
              "  <svg xmlns=\"http://www.w3.org/2000/svg\" height=\"24px\" viewBox=\"0 -960 960 960\">\n",
              "    <path d=\"M120-120v-720h720v720H120Zm60-500h600v-160H180v160Zm220 220h160v-160H400v160Zm0 220h160v-160H400v160ZM180-400h160v-160H180v160Zm440 0h160v-160H620v160ZM180-180h160v-160H180v160Zm440 0h160v-160H620v160Z\"/>\n",
              "  </svg>\n",
              "    </button>\n",
              "\n",
              "  <style>\n",
              "    .colab-df-container {\n",
              "      display:flex;\n",
              "      gap: 12px;\n",
              "    }\n",
              "\n",
              "    .colab-df-convert {\n",
              "      background-color: #E8F0FE;\n",
              "      border: none;\n",
              "      border-radius: 50%;\n",
              "      cursor: pointer;\n",
              "      display: none;\n",
              "      fill: #1967D2;\n",
              "      height: 32px;\n",
              "      padding: 0 0 0 0;\n",
              "      width: 32px;\n",
              "    }\n",
              "\n",
              "    .colab-df-convert:hover {\n",
              "      background-color: #E2EBFA;\n",
              "      box-shadow: 0px 1px 2px rgba(60, 64, 67, 0.3), 0px 1px 3px 1px rgba(60, 64, 67, 0.15);\n",
              "      fill: #174EA6;\n",
              "    }\n",
              "\n",
              "    .colab-df-buttons div {\n",
              "      margin-bottom: 4px;\n",
              "    }\n",
              "\n",
              "    [theme=dark] .colab-df-convert {\n",
              "      background-color: #3B4455;\n",
              "      fill: #D2E3FC;\n",
              "    }\n",
              "\n",
              "    [theme=dark] .colab-df-convert:hover {\n",
              "      background-color: #434B5C;\n",
              "      box-shadow: 0px 1px 3px 1px rgba(0, 0, 0, 0.15);\n",
              "      filter: drop-shadow(0px 1px 2px rgba(0, 0, 0, 0.3));\n",
              "      fill: #FFFFFF;\n",
              "    }\n",
              "  </style>\n",
              "\n",
              "    <script>\n",
              "      const buttonEl =\n",
              "        document.querySelector('#df-80ec454f-025b-4ab5-b759-71ca285bebe9 button.colab-df-convert');\n",
              "      buttonEl.style.display =\n",
              "        google.colab.kernel.accessAllowed ? 'block' : 'none';\n",
              "\n",
              "      async function convertToInteractive(key) {\n",
              "        const element = document.querySelector('#df-80ec454f-025b-4ab5-b759-71ca285bebe9');\n",
              "        const dataTable =\n",
              "          await google.colab.kernel.invokeFunction('convertToInteractive',\n",
              "                                                    [key], {});\n",
              "        if (!dataTable) return;\n",
              "\n",
              "        const docLinkHtml = 'Like what you see? Visit the ' +\n",
              "          '<a target=\"_blank\" href=https://colab.research.google.com/notebooks/data_table.ipynb>data table notebook</a>'\n",
              "          + ' to learn more about interactive tables.';\n",
              "        element.innerHTML = '';\n",
              "        dataTable['output_type'] = 'display_data';\n",
              "        await google.colab.output.renderOutput(dataTable, element);\n",
              "        const docLink = document.createElement('div');\n",
              "        docLink.innerHTML = docLinkHtml;\n",
              "        element.appendChild(docLink);\n",
              "      }\n",
              "    </script>\n",
              "  </div>\n",
              "\n",
              "\n",
              "<div id=\"df-51685827-b950-4d38-a1f3-6fec2e696079\">\n",
              "  <button class=\"colab-df-quickchart\" onclick=\"quickchart('df-51685827-b950-4d38-a1f3-6fec2e696079')\"\n",
              "            title=\"Suggest charts.\"\n",
              "            style=\"display:none;\">\n",
              "\n",
              "<svg xmlns=\"http://www.w3.org/2000/svg\" height=\"24px\"viewBox=\"0 0 24 24\"\n",
              "     width=\"24px\">\n",
              "    <g>\n",
              "        <path d=\"M19 3H5c-1.1 0-2 .9-2 2v14c0 1.1.9 2 2 2h14c1.1 0 2-.9 2-2V5c0-1.1-.9-2-2-2zM9 17H7v-7h2v7zm4 0h-2V7h2v10zm4 0h-2v-4h2v4z\"/>\n",
              "    </g>\n",
              "</svg>\n",
              "  </button>\n",
              "\n",
              "<style>\n",
              "  .colab-df-quickchart {\n",
              "      --bg-color: #E8F0FE;\n",
              "      --fill-color: #1967D2;\n",
              "      --hover-bg-color: #E2EBFA;\n",
              "      --hover-fill-color: #174EA6;\n",
              "      --disabled-fill-color: #AAA;\n",
              "      --disabled-bg-color: #DDD;\n",
              "  }\n",
              "\n",
              "  [theme=dark] .colab-df-quickchart {\n",
              "      --bg-color: #3B4455;\n",
              "      --fill-color: #D2E3FC;\n",
              "      --hover-bg-color: #434B5C;\n",
              "      --hover-fill-color: #FFFFFF;\n",
              "      --disabled-bg-color: #3B4455;\n",
              "      --disabled-fill-color: #666;\n",
              "  }\n",
              "\n",
              "  .colab-df-quickchart {\n",
              "    background-color: var(--bg-color);\n",
              "    border: none;\n",
              "    border-radius: 50%;\n",
              "    cursor: pointer;\n",
              "    display: none;\n",
              "    fill: var(--fill-color);\n",
              "    height: 32px;\n",
              "    padding: 0;\n",
              "    width: 32px;\n",
              "  }\n",
              "\n",
              "  .colab-df-quickchart:hover {\n",
              "    background-color: var(--hover-bg-color);\n",
              "    box-shadow: 0 1px 2px rgba(60, 64, 67, 0.3), 0 1px 3px 1px rgba(60, 64, 67, 0.15);\n",
              "    fill: var(--button-hover-fill-color);\n",
              "  }\n",
              "\n",
              "  .colab-df-quickchart-complete:disabled,\n",
              "  .colab-df-quickchart-complete:disabled:hover {\n",
              "    background-color: var(--disabled-bg-color);\n",
              "    fill: var(--disabled-fill-color);\n",
              "    box-shadow: none;\n",
              "  }\n",
              "\n",
              "  .colab-df-spinner {\n",
              "    border: 2px solid var(--fill-color);\n",
              "    border-color: transparent;\n",
              "    border-bottom-color: var(--fill-color);\n",
              "    animation:\n",
              "      spin 1s steps(1) infinite;\n",
              "  }\n",
              "\n",
              "  @keyframes spin {\n",
              "    0% {\n",
              "      border-color: transparent;\n",
              "      border-bottom-color: var(--fill-color);\n",
              "      border-left-color: var(--fill-color);\n",
              "    }\n",
              "    20% {\n",
              "      border-color: transparent;\n",
              "      border-left-color: var(--fill-color);\n",
              "      border-top-color: var(--fill-color);\n",
              "    }\n",
              "    30% {\n",
              "      border-color: transparent;\n",
              "      border-left-color: var(--fill-color);\n",
              "      border-top-color: var(--fill-color);\n",
              "      border-right-color: var(--fill-color);\n",
              "    }\n",
              "    40% {\n",
              "      border-color: transparent;\n",
              "      border-right-color: var(--fill-color);\n",
              "      border-top-color: var(--fill-color);\n",
              "    }\n",
              "    60% {\n",
              "      border-color: transparent;\n",
              "      border-right-color: var(--fill-color);\n",
              "    }\n",
              "    80% {\n",
              "      border-color: transparent;\n",
              "      border-right-color: var(--fill-color);\n",
              "      border-bottom-color: var(--fill-color);\n",
              "    }\n",
              "    90% {\n",
              "      border-color: transparent;\n",
              "      border-bottom-color: var(--fill-color);\n",
              "    }\n",
              "  }\n",
              "</style>\n",
              "\n",
              "  <script>\n",
              "    async function quickchart(key) {\n",
              "      const quickchartButtonEl =\n",
              "        document.querySelector('#' + key + ' button');\n",
              "      quickchartButtonEl.disabled = true;  // To prevent multiple clicks.\n",
              "      quickchartButtonEl.classList.add('colab-df-spinner');\n",
              "      try {\n",
              "        const charts = await google.colab.kernel.invokeFunction(\n",
              "            'suggestCharts', [key], {});\n",
              "      } catch (error) {\n",
              "        console.error('Error during call to suggestCharts:', error);\n",
              "      }\n",
              "      quickchartButtonEl.classList.remove('colab-df-spinner');\n",
              "      quickchartButtonEl.classList.add('colab-df-quickchart-complete');\n",
              "    }\n",
              "    (() => {\n",
              "      let quickchartButtonEl =\n",
              "        document.querySelector('#df-51685827-b950-4d38-a1f3-6fec2e696079 button');\n",
              "      quickchartButtonEl.style.display =\n",
              "        google.colab.kernel.accessAllowed ? 'block' : 'none';\n",
              "    })();\n",
              "  </script>\n",
              "</div>\n",
              "    </div>\n",
              "  </div>\n"
            ]
          },
          "metadata": {},
          "execution_count": 16
        }
      ]
    },
    {
      "cell_type": "code",
      "source": [
        "news_dataset.isnull().sum()"
      ],
      "metadata": {
        "colab": {
          "base_uri": "https://localhost:8080/"
        },
        "id": "Vf5w6Np-420E",
        "outputId": "3beaa2af-8ab1-47f8-b915-243a656b5c32"
      },
      "execution_count": 17,
      "outputs": [
        {
          "output_type": "execute_result",
          "data": {
            "text/plain": [
              "id           2\n",
              "title       39\n",
              "authour    116\n",
              "text        14\n",
              "label       13\n",
              "dtype: int64"
            ]
          },
          "metadata": {},
          "execution_count": 17
        }
      ]
    },
    {
      "cell_type": "code",
      "source": [
        "news_dataset = news_dataset.fillna(' ')"
      ],
      "metadata": {
        "id": "A6F4i9NZ72ck"
      },
      "execution_count": 18,
      "outputs": []
    },
    {
      "cell_type": "code",
      "source": [
        "#merging the authour name and news title\n",
        "news_dataset['content'] = news_dataset['authour']+' '+news_dataset['title']"
      ],
      "metadata": {
        "id": "6RZLfwOz8KmQ"
      },
      "execution_count": 20,
      "outputs": []
    },
    {
      "cell_type": "code",
      "source": [
        "print(news_dataset['content'])"
      ],
      "metadata": {
        "colab": {
          "base_uri": "https://localhost:8080/"
        },
        "id": "FP_fBPje8pCo",
        "outputId": "1d2e76f8-0c1e-45ef-b912-f0a25944f78d"
      },
      "execution_count": 22,
      "outputs": [
        {
          "output_type": "stream",
          "name": "stdout",
          "text": [
            "0       Michael Tennant Christian Charity Forfeits Fed...\n",
            "1       Iron Sheik JOHNSON & JOHNSON ORDERED TO PAY $7...\n",
            "2       Ken Klukowski Supreme Court Begins First Sitti...\n",
            "3       John Hayward Study: Unemployment Fuels Nationa...\n",
            "4       Jenna Leigh Richardson The Voting Dead: CBS4 I...\n",
            "                              ...                        \n",
            "1174    Kristina Wong Theresa May: National Threat Lev...\n",
            "1175    beforeitsnews.com Now waiting for the results ...\n",
            "1176    Author Turkeyâs Operation Euphrates Shield i...\n",
            "1177    Joe Nocera Navy Opens a Back Door, and In Come...\n",
            "1178                              Voices of Standing Rock\n",
            "Name: content, Length: 1179, dtype: object\n"
          ]
        }
      ]
    },
    {
      "cell_type": "code",
      "source": [
        "#separating the data and label\n",
        "X = news_dataset.drop(columns='label', axis=1)\n",
        "Y = news_dataset['label']"
      ],
      "metadata": {
        "id": "CORC0PUi9GR2"
      },
      "execution_count": 23,
      "outputs": []
    },
    {
      "cell_type": "code",
      "source": [
        "print(X)\n",
        "print(Y)"
      ],
      "metadata": {
        "colab": {
          "base_uri": "https://localhost:8080/"
        },
        "id": "SSyAcN5X9ymN",
        "outputId": "74a706ea-78bd-4de4-989c-45ef03e042e6"
      },
      "execution_count": 24,
      "outputs": [
        {
          "output_type": "stream",
          "name": "stdout",
          "text": [
            "         id                                              title  \\\n",
            "0     16280  Christian Charity Forfeits Federal Food in Fav...   \n",
            "1     16281  JOHNSON & JOHNSON ORDERED TO PAY $70 MILLION T...   \n",
            "2     16282  Supreme Court Begins First Sitting of Trump Pr...   \n",
            "3     16283  Study: Unemployment Fuels National Drug Epidem...   \n",
            "4     16284  The Voting Dead: CBS4 Investigation Exposes Vo...   \n",
            "...     ...                                                ...   \n",
            "1174  17442  Theresa May: National Threat Level Remains at ...   \n",
            "1175  17443  Now waiting for the results | Opinion - Conser...   \n",
            "1176  17444  Turkeyâs Operation Euphrates Shield is Shiel...   \n",
            "1177  17445  Navy Opens a Back Door, and In Come Athletes a...   \n",
            "1178  17446                            Voices of Standing Rock   \n",
            "\n",
            "                     authour  \\\n",
            "0            Michael Tennant   \n",
            "1                 Iron Sheik   \n",
            "2              Ken Klukowski   \n",
            "3               John Hayward   \n",
            "4     Jenna Leigh Richardson   \n",
            "...                      ...   \n",
            "1174           Kristina Wong   \n",
            "1175       beforeitsnews.com   \n",
            "1176                  Author   \n",
            "1177              Joe Nocera   \n",
            "1178                           \n",
            "\n",
            "                                                   text  \\\n",
            "0     Email \\nâWe donât force our faith on anybo...   \n",
            "1     Home âº US NEWS âº JOHNSON & JOHNSON ORDERED...   \n",
            "2     WASHINGTON â  Tuesday, the Supreme Court wil...   \n",
            "3     The National Bureau of Economic Research publi...   \n",
            "4     A CBS Denver voter fraud investigation has exp...   \n",
            "...                                                 ...   \n",
            "1174  United Kingdom Prime Minister Theresa May said...   \n",
            "1175  (Before It's News)\\nCompare and contrast New J...   \n",
            "1176  Country: Syria Turkey, in a bid to legitimize ...   \n",
            "1177  Itâs been another good year for Navy footbal...   \n",
            "1178  Share on Facebook Tweet Short stories told by ...   \n",
            "\n",
            "                                                content  \n",
            "0     Michael Tennant Christian Charity Forfeits Fed...  \n",
            "1     Iron Sheik JOHNSON & JOHNSON ORDERED TO PAY $7...  \n",
            "2     Ken Klukowski Supreme Court Begins First Sitti...  \n",
            "3     John Hayward Study: Unemployment Fuels Nationa...  \n",
            "4     Jenna Leigh Richardson The Voting Dead: CBS4 I...  \n",
            "...                                                 ...  \n",
            "1174  Kristina Wong Theresa May: National Threat Lev...  \n",
            "1175  beforeitsnews.com Now waiting for the results ...  \n",
            "1176  Author Turkeyâs Operation Euphrates Shield i...  \n",
            "1177  Joe Nocera Navy Opens a Back Door, and In Come...  \n",
            "1178                            Voices of Standing Rock  \n",
            "\n",
            "[1179 rows x 5 columns]\n",
            "0       1\n",
            "1       1\n",
            "2       0\n",
            "3       0\n",
            "4       1\n",
            "       ..\n",
            "1174    0\n",
            "1175    1\n",
            "1176    1\n",
            "1177    0\n",
            "1178    1\n",
            "Name: label, Length: 1179, dtype: object\n"
          ]
        }
      ]
    },
    {
      "cell_type": "markdown",
      "source": [
        "stemming is the process reducing a word to its a root word"
      ],
      "metadata": {
        "id": "_rCD4poL-Jhs"
      }
    },
    {
      "cell_type": "code",
      "source": [
        "port_stem = PorterStemmer()"
      ],
      "metadata": {
        "id": "w_sLuoGF-JPm"
      },
      "execution_count": 25,
      "outputs": []
    },
    {
      "cell_type": "code",
      "source": [
        "def stemming(content):\n",
        "  stemmed_content = re.sub('[^a-zA-Z]',' ', content)\n",
        "  stemmed_content = stemmed_content.lower()\n",
        "  stemmed_content = stemmed_content.split()\n",
        "  stemmed_content = [port_stem.stem(word) for word in stemmed_content if not word in stopwords.words('english')]\n",
        "  stemmed_content = ' '.join(stemmed_content)\n",
        "  return stemmed_content"
      ],
      "metadata": {
        "id": "TaSBO8TF98gP"
      },
      "execution_count": 26,
      "outputs": []
    },
    {
      "cell_type": "code",
      "source": [
        "news_dataset['content'] = news_dataset['content'].apply(stemming)"
      ],
      "metadata": {
        "id": "GzN711YjAvFM"
      },
      "execution_count": 28,
      "outputs": []
    },
    {
      "cell_type": "code",
      "source": [
        "print(news_dataset['content'])"
      ],
      "metadata": {
        "colab": {
          "base_uri": "https://localhost:8080/"
        },
        "id": "oZJShQyQA8mm",
        "outputId": "66ecfc3c-bc85-44af-88d3-cd8ba237ddb4"
      },
      "execution_count": 29,
      "outputs": [
        {
          "output_type": "stream",
          "name": "stdout",
          "text": [
            "0       michael tennant christian chariti forfeit fede...\n",
            "1       iron sheik johnson johnson order pay million c...\n",
            "2       ken klukowski suprem court begin first sit tru...\n",
            "3       john hayward studi unemploy fuel nation drug e...\n",
            "4       jenna leigh richardson vote dead cb investig e...\n",
            "                              ...                        \n",
            "1174    kristina wong theresa may nation threat level ...\n",
            "1175         beforeitsnew com wait result opinion conserv\n",
            "1176    author turkey oper euphrat shield shield new e...\n",
            "1177    joe nocera navi open back door come athlet vic...\n",
            "1178                                      voic stand rock\n",
            "Name: content, Length: 1179, dtype: object\n"
          ]
        }
      ]
    },
    {
      "cell_type": "code",
      "source": [
        "#separating the data and label\n",
        "X = news_dataset['content'].values\n",
        "Y = news_dataset['label'].values"
      ],
      "metadata": {
        "id": "dwNQkdObBeEk"
      },
      "execution_count": 30,
      "outputs": []
    },
    {
      "cell_type": "code",
      "source": [
        "print(X)"
      ],
      "metadata": {
        "colab": {
          "base_uri": "https://localhost:8080/"
        },
        "id": "_QwMvDloC2Hj",
        "outputId": "5f2d9583-3481-4f75-836a-275327817d00"
      },
      "execution_count": 31,
      "outputs": [
        {
          "output_type": "stream",
          "name": "stdout",
          "text": [
            "['michael tennant christian chariti forfeit feder food favor faith'\n",
            " 'iron sheik johnson johnson order pay million california woman cancer link babi powder'\n",
            " 'ken klukowski suprem court begin first sit trump presid' ...\n",
            " 'author turkey oper euphrat shield shield new eastern outlook'\n",
            " 'joe nocera navi open back door come athlet victori new york time'\n",
            " 'voic stand rock']\n"
          ]
        }
      ]
    },
    {
      "cell_type": "code",
      "source": [
        "print(Y)"
      ],
      "metadata": {
        "colab": {
          "base_uri": "https://localhost:8080/"
        },
        "id": "3tTYmaHBC5sC",
        "outputId": "9c8a33bb-1254-4331-d652-520b5d3dd643"
      },
      "execution_count": 32,
      "outputs": [
        {
          "output_type": "stream",
          "name": "stdout",
          "text": [
            "['1' '1' '0' ... '1' '0' '1']\n"
          ]
        }
      ]
    },
    {
      "cell_type": "code",
      "source": [
        "Y.shape"
      ],
      "metadata": {
        "colab": {
          "base_uri": "https://localhost:8080/"
        },
        "id": "YUWil6dDDBzH",
        "outputId": "13f5a678-0098-40e1-c71b-7cb3c310920d"
      },
      "execution_count": 33,
      "outputs": [
        {
          "output_type": "execute_result",
          "data": {
            "text/plain": [
              "(1179,)"
            ]
          },
          "metadata": {},
          "execution_count": 33
        }
      ]
    },
    {
      "cell_type": "code",
      "source": [
        "#converting the textual data to numerical data\n",
        "vectorizer = TfidfVectorizer()\n",
        "vectorizer.fit(X)\n",
        "\n",
        "X = vectorizer.transform(X)"
      ],
      "metadata": {
        "id": "RFWWFzAYDGl-"
      },
      "execution_count": 35,
      "outputs": []
    },
    {
      "cell_type": "code",
      "source": [
        "print(X)"
      ],
      "metadata": {
        "colab": {
          "base_uri": "https://localhost:8080/"
        },
        "id": "Fich-d6qD0mp",
        "outputId": "bb8a1c31-fc72-4804-85da-bd83529c6188"
      },
      "execution_count": 36,
      "outputs": [
        {
          "output_type": "stream",
          "name": "stdout",
          "text": [
            "  (0, 3804)\t0.36151675384087073\n",
            "  (0, 2420)\t0.22419359427485475\n",
            "  (0, 1441)\t0.36151675384087073\n",
            "  (0, 1432)\t0.32756280288719886\n",
            "  (0, 1362)\t0.3416549657816474\n",
            "  (0, 1354)\t0.3416549657816474\n",
            "  (0, 1326)\t0.36151675384087073\n",
            "  (0, 674)\t0.293608851933527\n",
            "  (0, 635)\t0.36151675384087073\n",
            "  (1, 4196)\t0.23528485656812417\n",
            "  (1, 3453)\t0.2604135202350651\n",
            "  (1, 2948)\t0.2891494277155059\n",
            "  (1, 2816)\t0.27722294853531554\n",
            "  (1, 2727)\t0.24360409193481466\n",
            "  (1, 2438)\t0.24360409193481466\n",
            "  (1, 2208)\t0.24848704105487474\n",
            "  (1, 1986)\t0.5208270404701302\n",
            "  (1, 1912)\t0.2604135202350651\n",
            "  (1, 556)\t0.26797205258527773\n",
            "  (1, 544)\t0.23923614510483693\n",
            "  (1, 265)\t0.2604135202350651\n",
            "  (2, 3935)\t0.1535266442117475\n",
            "  (2, 3720)\t0.3665543952180499\n",
            "  (2, 3508)\t0.39552256506365807\n",
            "  (2, 2963)\t0.2879396808408275\n",
            "  :\t:\n",
            "  (1175, 747)\t0.29114717599715123\n",
            "  (1175, 337)\t0.4138913482406397\n",
            "  (1176, 3956)\t0.28914610924648476\n",
            "  (1176, 3460)\t0.6794333314691637\n",
            "  (1176, 2745)\t0.3078101969915753\n",
            "  (1176, 2719)\t0.28914610924648476\n",
            "  (1176, 2609)\t0.09664088683459313\n",
            "  (1176, 1266)\t0.33971666573458187\n",
            "  (1176, 1165)\t0.3078101969915753\n",
            "  (1176, 256)\t0.23857555275838763\n",
            "  (1177, 4243)\t0.11129246165483685\n",
            "  (1177, 4060)\t0.308087920542894\n",
            "  (1177, 3854)\t0.10843989870990026\n",
            "  (1177, 2718)\t0.2793231879960581\n",
            "  (1177, 2636)\t0.37934464236612103\n",
            "  (1177, 2609)\t0.10791405412784738\n",
            "  (1177, 2577)\t0.33224651110227243\n",
            "  (1177, 1981)\t0.308087920542894\n",
            "  (1177, 1106)\t0.34371628145450756\n",
            "  (1177, 748)\t0.29171912501987757\n",
            "  (1177, 266)\t0.308087920542894\n",
            "  (1177, 237)\t0.37934464236612103\n",
            "  (1178, 4082)\t0.5971618890770253\n",
            "  (1178, 3626)\t0.5537405465081758\n",
            "  (1178, 3254)\t0.5803180898324515\n"
          ]
        }
      ]
    },
    {
      "cell_type": "markdown",
      "source": [
        "Splitting the dataset to training and test data"
      ],
      "metadata": {
        "id": "CjFi5_swEG32"
      }
    },
    {
      "cell_type": "code",
      "source": [
        "X_train, X_test, Y_train, Y_test = train_test_split(X, Y, test_size = 0.2, stratify=Y, random_state=2)"
      ],
      "metadata": {
        "id": "X3bJylolD_8R"
      },
      "execution_count": 37,
      "outputs": []
    },
    {
      "cell_type": "code",
      "source": [
        "model = LogisticRegression()"
      ],
      "metadata": {
        "id": "5fUmqRPCEzrS"
      },
      "execution_count": 38,
      "outputs": []
    },
    {
      "cell_type": "code",
      "source": [
        "\n",
        "model.fit(X_train, Y_train)"
      ],
      "metadata": {
        "colab": {
          "base_uri": "https://localhost:8080/",
          "height": 75
        },
        "id": "t2OkRaM2Fjb2",
        "outputId": "faa9d4a9-25b2-44ab-d5c0-cfa8651da367"
      },
      "execution_count": 41,
      "outputs": [
        {
          "output_type": "execute_result",
          "data": {
            "text/plain": [
              "LogisticRegression()"
            ],
            "text/html": [
              "<style>#sk-container-id-3 {color: black;background-color: white;}#sk-container-id-3 pre{padding: 0;}#sk-container-id-3 div.sk-toggleable {background-color: white;}#sk-container-id-3 label.sk-toggleable__label {cursor: pointer;display: block;width: 100%;margin-bottom: 0;padding: 0.3em;box-sizing: border-box;text-align: center;}#sk-container-id-3 label.sk-toggleable__label-arrow:before {content: \"▸\";float: left;margin-right: 0.25em;color: #696969;}#sk-container-id-3 label.sk-toggleable__label-arrow:hover:before {color: black;}#sk-container-id-3 div.sk-estimator:hover label.sk-toggleable__label-arrow:before {color: black;}#sk-container-id-3 div.sk-toggleable__content {max-height: 0;max-width: 0;overflow: hidden;text-align: left;background-color: #f0f8ff;}#sk-container-id-3 div.sk-toggleable__content pre {margin: 0.2em;color: black;border-radius: 0.25em;background-color: #f0f8ff;}#sk-container-id-3 input.sk-toggleable__control:checked~div.sk-toggleable__content {max-height: 200px;max-width: 100%;overflow: auto;}#sk-container-id-3 input.sk-toggleable__control:checked~label.sk-toggleable__label-arrow:before {content: \"▾\";}#sk-container-id-3 div.sk-estimator input.sk-toggleable__control:checked~label.sk-toggleable__label {background-color: #d4ebff;}#sk-container-id-3 div.sk-label input.sk-toggleable__control:checked~label.sk-toggleable__label {background-color: #d4ebff;}#sk-container-id-3 input.sk-hidden--visually {border: 0;clip: rect(1px 1px 1px 1px);clip: rect(1px, 1px, 1px, 1px);height: 1px;margin: -1px;overflow: hidden;padding: 0;position: absolute;width: 1px;}#sk-container-id-3 div.sk-estimator {font-family: monospace;background-color: #f0f8ff;border: 1px dotted black;border-radius: 0.25em;box-sizing: border-box;margin-bottom: 0.5em;}#sk-container-id-3 div.sk-estimator:hover {background-color: #d4ebff;}#sk-container-id-3 div.sk-parallel-item::after {content: \"\";width: 100%;border-bottom: 1px solid gray;flex-grow: 1;}#sk-container-id-3 div.sk-label:hover label.sk-toggleable__label {background-color: #d4ebff;}#sk-container-id-3 div.sk-serial::before {content: \"\";position: absolute;border-left: 1px solid gray;box-sizing: border-box;top: 0;bottom: 0;left: 50%;z-index: 0;}#sk-container-id-3 div.sk-serial {display: flex;flex-direction: column;align-items: center;background-color: white;padding-right: 0.2em;padding-left: 0.2em;position: relative;}#sk-container-id-3 div.sk-item {position: relative;z-index: 1;}#sk-container-id-3 div.sk-parallel {display: flex;align-items: stretch;justify-content: center;background-color: white;position: relative;}#sk-container-id-3 div.sk-item::before, #sk-container-id-3 div.sk-parallel-item::before {content: \"\";position: absolute;border-left: 1px solid gray;box-sizing: border-box;top: 0;bottom: 0;left: 50%;z-index: -1;}#sk-container-id-3 div.sk-parallel-item {display: flex;flex-direction: column;z-index: 1;position: relative;background-color: white;}#sk-container-id-3 div.sk-parallel-item:first-child::after {align-self: flex-end;width: 50%;}#sk-container-id-3 div.sk-parallel-item:last-child::after {align-self: flex-start;width: 50%;}#sk-container-id-3 div.sk-parallel-item:only-child::after {width: 0;}#sk-container-id-3 div.sk-dashed-wrapped {border: 1px dashed gray;margin: 0 0.4em 0.5em 0.4em;box-sizing: border-box;padding-bottom: 0.4em;background-color: white;}#sk-container-id-3 div.sk-label label {font-family: monospace;font-weight: bold;display: inline-block;line-height: 1.2em;}#sk-container-id-3 div.sk-label-container {text-align: center;}#sk-container-id-3 div.sk-container {/* jupyter's `normalize.less` sets `[hidden] { display: none; }` but bootstrap.min.css set `[hidden] { display: none !important; }` so we also need the `!important` here to be able to override the default hidden behavior on the sphinx rendered scikit-learn.org. See: https://github.com/scikit-learn/scikit-learn/issues/21755 */display: inline-block !important;position: relative;}#sk-container-id-3 div.sk-text-repr-fallback {display: none;}</style><div id=\"sk-container-id-3\" class=\"sk-top-container\"><div class=\"sk-text-repr-fallback\"><pre>LogisticRegression()</pre><b>In a Jupyter environment, please rerun this cell to show the HTML representation or trust the notebook. <br />On GitHub, the HTML representation is unable to render, please try loading this page with nbviewer.org.</b></div><div class=\"sk-container\" hidden><div class=\"sk-item\"><div class=\"sk-estimator sk-toggleable\"><input class=\"sk-toggleable__control sk-hidden--visually\" id=\"sk-estimator-id-3\" type=\"checkbox\" checked><label for=\"sk-estimator-id-3\" class=\"sk-toggleable__label sk-toggleable__label-arrow\">LogisticRegression</label><div class=\"sk-toggleable__content\"><pre>LogisticRegression()</pre></div></div></div></div></div>"
            ]
          },
          "metadata": {},
          "execution_count": 41
        }
      ]
    },
    {
      "cell_type": "code",
      "source": [
        "#accuracy score on the training data\n",
        "X_train_prediction = model.predict(X_train)\n",
        "training_data_accuracy = accuracy_score(X_train_prediction, Y_train)"
      ],
      "metadata": {
        "id": "YEh3NtXxFvXc"
      },
      "execution_count": 46,
      "outputs": []
    },
    {
      "cell_type": "code",
      "source": [
        "print('Accuracy score of the training data: ', training_data_accuracy)"
      ],
      "metadata": {
        "colab": {
          "base_uri": "https://localhost:8080/"
        },
        "id": "vKgOfCUEGqvH",
        "outputId": "b0e26267-b18a-4a16-c34b-31a33e5aa1fe"
      },
      "execution_count": 47,
      "outputs": [
        {
          "output_type": "stream",
          "name": "stdout",
          "text": [
            "Accuracy score of the training data:  0.9830328738069989\n"
          ]
        }
      ]
    },
    {
      "cell_type": "code",
      "source": [
        "#accuracy score on the test data\n",
        "X_test_prediction = model.predict(X_test)\n",
        "test_data_accuracy = accuracy_score(X_test_prediction, Y_test)"
      ],
      "metadata": {
        "id": "kkCDVnQ7G5Wl"
      },
      "execution_count": 48,
      "outputs": []
    },
    {
      "cell_type": "code",
      "source": [
        "print('Accuracy score of the test data: ', test_data_accuracy)"
      ],
      "metadata": {
        "colab": {
          "base_uri": "https://localhost:8080/"
        },
        "id": "a6UVeskYHWyb",
        "outputId": "76213bb3-8729-4fb2-af94-3b2728704f9f"
      },
      "execution_count": 50,
      "outputs": [
        {
          "output_type": "stream",
          "name": "stdout",
          "text": [
            "Accuracy score of the test data:  0.940677966101695\n"
          ]
        }
      ]
    },
    {
      "cell_type": "markdown",
      "source": [
        "Making a predictive system"
      ],
      "metadata": {
        "id": "UFyVXNlhH3W8"
      }
    },
    {
      "cell_type": "code",
      "source": [
        "X_new = X_test[0]\n",
        "\n",
        "prediction = model.predict(X_new)\n",
        "print(prediction)\n",
        "\n",
        "if (prediction[0]==0):\n",
        "  print('The news is Real')\n",
        "else:\n",
        "  print('The news is Fake')"
      ],
      "metadata": {
        "colab": {
          "base_uri": "https://localhost:8080/"
        },
        "id": "4J0DRpXYHxjf",
        "outputId": "7807d1c4-1769-4819-d5d4-4cfa411a1717"
      },
      "execution_count": 52,
      "outputs": [
        {
          "output_type": "stream",
          "name": "stdout",
          "text": [
            "['1']\n",
            "The news is Fake\n"
          ]
        }
      ]
    },
    {
      "cell_type": "code",
      "source": [
        "print(Y_test[0])"
      ],
      "metadata": {
        "colab": {
          "base_uri": "https://localhost:8080/"
        },
        "id": "d9MrFIKJInks",
        "outputId": "28bac567-d203-4652-f26d-922b5420f0bf"
      },
      "execution_count": 53,
      "outputs": [
        {
          "output_type": "stream",
          "name": "stdout",
          "text": [
            "1\n"
          ]
        }
      ]
    },
    {
      "cell_type": "code",
      "source": [
        "print(Y_test[1])"
      ],
      "metadata": {
        "colab": {
          "base_uri": "https://localhost:8080/"
        },
        "id": "bs-T0cmqI_bT",
        "outputId": "40b90beb-3bc9-4e65-ad0c-654107880bce"
      },
      "execution_count": 54,
      "outputs": [
        {
          "output_type": "stream",
          "name": "stdout",
          "text": [
            "0\n"
          ]
        }
      ]
    },
    {
      "cell_type": "code",
      "source": [],
      "metadata": {
        "id": "uZw_WoxiJLaY"
      },
      "execution_count": null,
      "outputs": []
    }
  ]
}